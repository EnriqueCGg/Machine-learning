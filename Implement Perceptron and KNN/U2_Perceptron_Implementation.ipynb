{
 "cells": [
  {
   "cell_type": "markdown",
   "id": "4a94970e",
   "metadata": {},
   "source": [
    "<h3><center>Universidad Politécnica de Yucatán</center></h3>\n",
    "<h3><center>Machine Learning</center></h3>\n",
    "<h3><center>Teacher: Victor Alejandro Ortiz Santiago</center></h3>\n",
    "<h3><center>Student: Enrique Arturo Emmanuel Chi Gongora</center></h3>\n"
   ]
  },
  {
   "cell_type": "markdown",
   "id": "3834f720",
   "metadata": {},
   "source": [
    "<h1><center>Perceptron Implementation</center></h1>"
   ]
  },
  {
   "cell_type": "markdown",
   "id": "e71cca46",
   "metadata": {},
   "source": [
    "A perceptron is like a kind of \"artificial brain cell\" that helps computers learn. Imagine that it is like a small box that receives information, processes it and decides if something is true or false. If you make mistakes, you adjust the way you work to improve. Perceptrons are used in artificial intelligence projects to classify things and are part of larger systems that function like electronic brains.\n",
    "\n",
    "Perceptrons are essential in artificial intelligence projects for classification tasks, such as identifying spam emails, recognizing handwritten characters, or diagnosing diseases based on medical data. They are also used in recommendation systems, such as those that suggest movies or products online. In addition, they are the basis of more advanced systems such as deep neural networks, which are fundamental in fields such as natural language processing, computer vision and autonomous vehicle driving. Simply put, perceptrons and artificial neural networks are the backbone of artificial intelligence, allowing computers to learn and make decisions similar to how humans do, but on a much larger scale and with impressive speed.\n",
    "\n",
    "The intuition behind the Perceptron algorithm is based on imitating the functioning of a neuron in the human brain to perform classification tasks.\n",
    "\n",
    "The Perceptron algorithm learns from experience by adjusting these weights. If it makes a wrong prediction, it changes the weights so that the next time it is closer to the correct answer. This weight adjustment process is repeated over and over again until the Perceptron is good enough at its predictions."
   ]
  },
  {
   "cell_type": "markdown",
   "id": "7c740e4a",
   "metadata": {},
   "source": [
    "<h3>Algorithm pseudocode<h3>"
   ]
  },
  {
   "cell_type": "markdown",
   "id": "42595fc4",
   "metadata": {},
   "source": [
    "The Perceptron algorithm pseudocode describes how a machine learning model trains and makes predictions. It includes the initialization of weights and bias, the updating of parameters based on prediction errors and the application of an activation function. The result is a model capable of classifying data into two categories.\n",
    "\n",
    "\n",
    "1.- Initialization\n",
    "* Initialize weights (w) and bias (b) to small random values or zeros.\n",
    "* Set a learning rate (α) for weight updates.\n",
    "\n",
    "2.- Training\n",
    "* Repeat until convergence or a fixed number of iterations:\n",
    "\n",
    "      for each training example (X, y):\n",
    "   \n",
    "       Calculate the weighted sum (Z) = (X * w) + b\n",
    "     \n",
    "*    Apply the step activation function:\n",
    "     \n",
    "         If Z > 0, predict 1 (positive class)\n",
    "       \n",
    "         If Z <= 0, predict 0 (negative class)\n",
    "       \n",
    "*    If the prediction is incorrect:\n",
    "     \n",
    "         Update the weights: w = w + α * (y - prediction) * X\n",
    "       \n",
    "         Update the bias: b = b + α * (y - prediction)\n",
    "\n",
    "3.- Prediction\n",
    "* To make predictions on new data (X_new):\n",
    "\n",
    "      Calculate Z = (X_new * w) + b\n",
    "         \n",
    "*   Apply the step activation function to predict the class.\n",
    "\n",
    "4.- \n",
    "* The algorithm concludes with the final weights and bias, which can be used for making predictions on new data."
   ]
  },
  {
   "cell_type": "markdown",
   "id": "6b8e7866",
   "metadata": {},
   "source": [
    "<h3>Implementation of the algorithm<h3>"
   ]
  },
  {
   "cell_type": "markdown",
   "id": "36e34e62",
   "metadata": {},
   "source": [
    "The following code does not explicitly use weights or biases due to the use of the scikit-learn library, which encapsulates the complexity of the Perceptron algorithm. Instead of manually specifying and adjusting weights and biases, scikit-learn performs these calculations internally. This simplifies the training and prediction process, allowing users to focus on the task of classification and evaluating results without worrying about detailed parameter manipulation."
   ]
  },
  {
   "cell_type": "code",
   "execution_count": 1,
   "id": "3c3fc040",
   "metadata": {},
   "outputs": [],
   "source": [
    "#Import libraries \n",
    "import pandas as pd\n",
    "import numpy as np\n",
    "import matplotlib.pyplot as plt\n",
    "from sklearn.model_selection import train_test_split\n",
    "from sklearn.linear_model import Perceptron\n",
    "from sklearn.metrics import accuracy_score"
   ]
  },
  {
   "cell_type": "markdown",
   "id": "6018461c",
   "metadata": {},
   "source": [
    "The MNIST_784 dataset is a data set composed of 70,000 images of handwritten digits, in black and white, with a resolution of 28x28 pixels. Each image is labeled with the digit it represents (0-9). Widely used in machine learning and computer vision, it is a standard for classification tasks and a common reference in academic research and education."
   ]
  },
  {
   "cell_type": "code",
   "execution_count": 2,
   "id": "6f150195",
   "metadata": {},
   "outputs": [
    {
     "data": {
      "text/html": [
       "<div>\n",
       "<style scoped>\n",
       "    .dataframe tbody tr th:only-of-type {\n",
       "        vertical-align: middle;\n",
       "    }\n",
       "\n",
       "    .dataframe tbody tr th {\n",
       "        vertical-align: top;\n",
       "    }\n",
       "\n",
       "    .dataframe thead th {\n",
       "        text-align: right;\n",
       "    }\n",
       "</style>\n",
       "<table border=\"1\" class=\"dataframe\">\n",
       "  <thead>\n",
       "    <tr style=\"text-align: right;\">\n",
       "      <th></th>\n",
       "      <th>pixel1</th>\n",
       "      <th>pixel2</th>\n",
       "      <th>pixel3</th>\n",
       "      <th>pixel4</th>\n",
       "      <th>pixel5</th>\n",
       "      <th>pixel6</th>\n",
       "      <th>pixel7</th>\n",
       "      <th>pixel8</th>\n",
       "      <th>pixel9</th>\n",
       "      <th>pixel10</th>\n",
       "      <th>...</th>\n",
       "      <th>pixel776</th>\n",
       "      <th>pixel777</th>\n",
       "      <th>pixel778</th>\n",
       "      <th>pixel779</th>\n",
       "      <th>pixel780</th>\n",
       "      <th>pixel781</th>\n",
       "      <th>pixel782</th>\n",
       "      <th>pixel783</th>\n",
       "      <th>pixel784</th>\n",
       "      <th>class</th>\n",
       "    </tr>\n",
       "  </thead>\n",
       "  <tbody>\n",
       "    <tr>\n",
       "      <th>0</th>\n",
       "      <td>0</td>\n",
       "      <td>0</td>\n",
       "      <td>0</td>\n",
       "      <td>0</td>\n",
       "      <td>0</td>\n",
       "      <td>0</td>\n",
       "      <td>0</td>\n",
       "      <td>0</td>\n",
       "      <td>0</td>\n",
       "      <td>0</td>\n",
       "      <td>...</td>\n",
       "      <td>0</td>\n",
       "      <td>0</td>\n",
       "      <td>0</td>\n",
       "      <td>0</td>\n",
       "      <td>0</td>\n",
       "      <td>0</td>\n",
       "      <td>0</td>\n",
       "      <td>0</td>\n",
       "      <td>0</td>\n",
       "      <td>5</td>\n",
       "    </tr>\n",
       "    <tr>\n",
       "      <th>1</th>\n",
       "      <td>0</td>\n",
       "      <td>0</td>\n",
       "      <td>0</td>\n",
       "      <td>0</td>\n",
       "      <td>0</td>\n",
       "      <td>0</td>\n",
       "      <td>0</td>\n",
       "      <td>0</td>\n",
       "      <td>0</td>\n",
       "      <td>0</td>\n",
       "      <td>...</td>\n",
       "      <td>0</td>\n",
       "      <td>0</td>\n",
       "      <td>0</td>\n",
       "      <td>0</td>\n",
       "      <td>0</td>\n",
       "      <td>0</td>\n",
       "      <td>0</td>\n",
       "      <td>0</td>\n",
       "      <td>0</td>\n",
       "      <td>0</td>\n",
       "    </tr>\n",
       "    <tr>\n",
       "      <th>2</th>\n",
       "      <td>0</td>\n",
       "      <td>0</td>\n",
       "      <td>0</td>\n",
       "      <td>0</td>\n",
       "      <td>0</td>\n",
       "      <td>0</td>\n",
       "      <td>0</td>\n",
       "      <td>0</td>\n",
       "      <td>0</td>\n",
       "      <td>0</td>\n",
       "      <td>...</td>\n",
       "      <td>0</td>\n",
       "      <td>0</td>\n",
       "      <td>0</td>\n",
       "      <td>0</td>\n",
       "      <td>0</td>\n",
       "      <td>0</td>\n",
       "      <td>0</td>\n",
       "      <td>0</td>\n",
       "      <td>0</td>\n",
       "      <td>4</td>\n",
       "    </tr>\n",
       "    <tr>\n",
       "      <th>3</th>\n",
       "      <td>0</td>\n",
       "      <td>0</td>\n",
       "      <td>0</td>\n",
       "      <td>0</td>\n",
       "      <td>0</td>\n",
       "      <td>0</td>\n",
       "      <td>0</td>\n",
       "      <td>0</td>\n",
       "      <td>0</td>\n",
       "      <td>0</td>\n",
       "      <td>...</td>\n",
       "      <td>0</td>\n",
       "      <td>0</td>\n",
       "      <td>0</td>\n",
       "      <td>0</td>\n",
       "      <td>0</td>\n",
       "      <td>0</td>\n",
       "      <td>0</td>\n",
       "      <td>0</td>\n",
       "      <td>0</td>\n",
       "      <td>1</td>\n",
       "    </tr>\n",
       "    <tr>\n",
       "      <th>4</th>\n",
       "      <td>0</td>\n",
       "      <td>0</td>\n",
       "      <td>0</td>\n",
       "      <td>0</td>\n",
       "      <td>0</td>\n",
       "      <td>0</td>\n",
       "      <td>0</td>\n",
       "      <td>0</td>\n",
       "      <td>0</td>\n",
       "      <td>0</td>\n",
       "      <td>...</td>\n",
       "      <td>0</td>\n",
       "      <td>0</td>\n",
       "      <td>0</td>\n",
       "      <td>0</td>\n",
       "      <td>0</td>\n",
       "      <td>0</td>\n",
       "      <td>0</td>\n",
       "      <td>0</td>\n",
       "      <td>0</td>\n",
       "      <td>9</td>\n",
       "    </tr>\n",
       "    <tr>\n",
       "      <th>...</th>\n",
       "      <td>...</td>\n",
       "      <td>...</td>\n",
       "      <td>...</td>\n",
       "      <td>...</td>\n",
       "      <td>...</td>\n",
       "      <td>...</td>\n",
       "      <td>...</td>\n",
       "      <td>...</td>\n",
       "      <td>...</td>\n",
       "      <td>...</td>\n",
       "      <td>...</td>\n",
       "      <td>...</td>\n",
       "      <td>...</td>\n",
       "      <td>...</td>\n",
       "      <td>...</td>\n",
       "      <td>...</td>\n",
       "      <td>...</td>\n",
       "      <td>...</td>\n",
       "      <td>...</td>\n",
       "      <td>...</td>\n",
       "      <td>...</td>\n",
       "    </tr>\n",
       "    <tr>\n",
       "      <th>69995</th>\n",
       "      <td>0</td>\n",
       "      <td>0</td>\n",
       "      <td>0</td>\n",
       "      <td>0</td>\n",
       "      <td>0</td>\n",
       "      <td>0</td>\n",
       "      <td>0</td>\n",
       "      <td>0</td>\n",
       "      <td>0</td>\n",
       "      <td>0</td>\n",
       "      <td>...</td>\n",
       "      <td>0</td>\n",
       "      <td>0</td>\n",
       "      <td>0</td>\n",
       "      <td>0</td>\n",
       "      <td>0</td>\n",
       "      <td>0</td>\n",
       "      <td>0</td>\n",
       "      <td>0</td>\n",
       "      <td>0</td>\n",
       "      <td>2</td>\n",
       "    </tr>\n",
       "    <tr>\n",
       "      <th>69996</th>\n",
       "      <td>0</td>\n",
       "      <td>0</td>\n",
       "      <td>0</td>\n",
       "      <td>0</td>\n",
       "      <td>0</td>\n",
       "      <td>0</td>\n",
       "      <td>0</td>\n",
       "      <td>0</td>\n",
       "      <td>0</td>\n",
       "      <td>0</td>\n",
       "      <td>...</td>\n",
       "      <td>0</td>\n",
       "      <td>0</td>\n",
       "      <td>0</td>\n",
       "      <td>0</td>\n",
       "      <td>0</td>\n",
       "      <td>0</td>\n",
       "      <td>0</td>\n",
       "      <td>0</td>\n",
       "      <td>0</td>\n",
       "      <td>3</td>\n",
       "    </tr>\n",
       "    <tr>\n",
       "      <th>69997</th>\n",
       "      <td>0</td>\n",
       "      <td>0</td>\n",
       "      <td>0</td>\n",
       "      <td>0</td>\n",
       "      <td>0</td>\n",
       "      <td>0</td>\n",
       "      <td>0</td>\n",
       "      <td>0</td>\n",
       "      <td>0</td>\n",
       "      <td>0</td>\n",
       "      <td>...</td>\n",
       "      <td>0</td>\n",
       "      <td>0</td>\n",
       "      <td>0</td>\n",
       "      <td>0</td>\n",
       "      <td>0</td>\n",
       "      <td>0</td>\n",
       "      <td>0</td>\n",
       "      <td>0</td>\n",
       "      <td>0</td>\n",
       "      <td>4</td>\n",
       "    </tr>\n",
       "    <tr>\n",
       "      <th>69998</th>\n",
       "      <td>0</td>\n",
       "      <td>0</td>\n",
       "      <td>0</td>\n",
       "      <td>0</td>\n",
       "      <td>0</td>\n",
       "      <td>0</td>\n",
       "      <td>0</td>\n",
       "      <td>0</td>\n",
       "      <td>0</td>\n",
       "      <td>0</td>\n",
       "      <td>...</td>\n",
       "      <td>0</td>\n",
       "      <td>0</td>\n",
       "      <td>0</td>\n",
       "      <td>0</td>\n",
       "      <td>0</td>\n",
       "      <td>0</td>\n",
       "      <td>0</td>\n",
       "      <td>0</td>\n",
       "      <td>0</td>\n",
       "      <td>5</td>\n",
       "    </tr>\n",
       "    <tr>\n",
       "      <th>69999</th>\n",
       "      <td>0</td>\n",
       "      <td>0</td>\n",
       "      <td>0</td>\n",
       "      <td>0</td>\n",
       "      <td>0</td>\n",
       "      <td>0</td>\n",
       "      <td>0</td>\n",
       "      <td>0</td>\n",
       "      <td>0</td>\n",
       "      <td>0</td>\n",
       "      <td>...</td>\n",
       "      <td>0</td>\n",
       "      <td>0</td>\n",
       "      <td>0</td>\n",
       "      <td>0</td>\n",
       "      <td>0</td>\n",
       "      <td>0</td>\n",
       "      <td>0</td>\n",
       "      <td>0</td>\n",
       "      <td>0</td>\n",
       "      <td>6</td>\n",
       "    </tr>\n",
       "  </tbody>\n",
       "</table>\n",
       "<p>70000 rows × 785 columns</p>\n",
       "</div>"
      ],
      "text/plain": [
       "       pixel1  pixel2  pixel3  pixel4  pixel5  pixel6  pixel7  pixel8  pixel9  \\\n",
       "0           0       0       0       0       0       0       0       0       0   \n",
       "1           0       0       0       0       0       0       0       0       0   \n",
       "2           0       0       0       0       0       0       0       0       0   \n",
       "3           0       0       0       0       0       0       0       0       0   \n",
       "4           0       0       0       0       0       0       0       0       0   \n",
       "...       ...     ...     ...     ...     ...     ...     ...     ...     ...   \n",
       "69995       0       0       0       0       0       0       0       0       0   \n",
       "69996       0       0       0       0       0       0       0       0       0   \n",
       "69997       0       0       0       0       0       0       0       0       0   \n",
       "69998       0       0       0       0       0       0       0       0       0   \n",
       "69999       0       0       0       0       0       0       0       0       0   \n",
       "\n",
       "       pixel10  ...  pixel776  pixel777  pixel778  pixel779  pixel780  \\\n",
       "0            0  ...         0         0         0         0         0   \n",
       "1            0  ...         0         0         0         0         0   \n",
       "2            0  ...         0         0         0         0         0   \n",
       "3            0  ...         0         0         0         0         0   \n",
       "4            0  ...         0         0         0         0         0   \n",
       "...        ...  ...       ...       ...       ...       ...       ...   \n",
       "69995        0  ...         0         0         0         0         0   \n",
       "69996        0  ...         0         0         0         0         0   \n",
       "69997        0  ...         0         0         0         0         0   \n",
       "69998        0  ...         0         0         0         0         0   \n",
       "69999        0  ...         0         0         0         0         0   \n",
       "\n",
       "       pixel781  pixel782  pixel783  pixel784  class  \n",
       "0             0         0         0         0      5  \n",
       "1             0         0         0         0      0  \n",
       "2             0         0         0         0      4  \n",
       "3             0         0         0         0      1  \n",
       "4             0         0         0         0      9  \n",
       "...         ...       ...       ...       ...    ...  \n",
       "69995         0         0         0         0      2  \n",
       "69996         0         0         0         0      3  \n",
       "69997         0         0         0         0      4  \n",
       "69998         0         0         0         0      5  \n",
       "69999         0         0         0         0      6  \n",
       "\n",
       "[70000 rows x 785 columns]"
      ]
     },
     "execution_count": 2,
     "metadata": {},
     "output_type": "execute_result"
    }
   ],
   "source": [
    "#Import dataset\n",
    "mnist_data = pd.read_csv('mnist_784.csv')\n",
    "mnist_data "
   ]
  },
  {
   "cell_type": "code",
   "execution_count": 3,
   "id": "5096cd4b",
   "metadata": {},
   "outputs": [],
   "source": [
    "# Split the data set into features (x) and labels (y)\n",
    "X = mnist_data.drop('class', axis=1)\n",
    "y = mnist_data['class']"
   ]
  },
  {
   "cell_type": "code",
   "execution_count": 4,
   "id": "f2b4836d",
   "metadata": {},
   "outputs": [],
   "source": [
    "# Split into training and test sets\n",
    "X_train, X_test, y_train, y_test = train_test_split(X, y, test_size=0.1, random_state=42)"
   ]
  },
  {
   "cell_type": "code",
   "execution_count": 5,
   "id": "7bdde6f1",
   "metadata": {},
   "outputs": [
    {
     "data": {
      "text/html": [
       "<style>#sk-container-id-1 {color: black;}#sk-container-id-1 pre{padding: 0;}#sk-container-id-1 div.sk-toggleable {background-color: white;}#sk-container-id-1 label.sk-toggleable__label {cursor: pointer;display: block;width: 100%;margin-bottom: 0;padding: 0.3em;box-sizing: border-box;text-align: center;}#sk-container-id-1 label.sk-toggleable__label-arrow:before {content: \"▸\";float: left;margin-right: 0.25em;color: #696969;}#sk-container-id-1 label.sk-toggleable__label-arrow:hover:before {color: black;}#sk-container-id-1 div.sk-estimator:hover label.sk-toggleable__label-arrow:before {color: black;}#sk-container-id-1 div.sk-toggleable__content {max-height: 0;max-width: 0;overflow: hidden;text-align: left;background-color: #f0f8ff;}#sk-container-id-1 div.sk-toggleable__content pre {margin: 0.2em;color: black;border-radius: 0.25em;background-color: #f0f8ff;}#sk-container-id-1 input.sk-toggleable__control:checked~div.sk-toggleable__content {max-height: 200px;max-width: 100%;overflow: auto;}#sk-container-id-1 input.sk-toggleable__control:checked~label.sk-toggleable__label-arrow:before {content: \"▾\";}#sk-container-id-1 div.sk-estimator input.sk-toggleable__control:checked~label.sk-toggleable__label {background-color: #d4ebff;}#sk-container-id-1 div.sk-label input.sk-toggleable__control:checked~label.sk-toggleable__label {background-color: #d4ebff;}#sk-container-id-1 input.sk-hidden--visually {border: 0;clip: rect(1px 1px 1px 1px);clip: rect(1px, 1px, 1px, 1px);height: 1px;margin: -1px;overflow: hidden;padding: 0;position: absolute;width: 1px;}#sk-container-id-1 div.sk-estimator {font-family: monospace;background-color: #f0f8ff;border: 1px dotted black;border-radius: 0.25em;box-sizing: border-box;margin-bottom: 0.5em;}#sk-container-id-1 div.sk-estimator:hover {background-color: #d4ebff;}#sk-container-id-1 div.sk-parallel-item::after {content: \"\";width: 100%;border-bottom: 1px solid gray;flex-grow: 1;}#sk-container-id-1 div.sk-label:hover label.sk-toggleable__label {background-color: #d4ebff;}#sk-container-id-1 div.sk-serial::before {content: \"\";position: absolute;border-left: 1px solid gray;box-sizing: border-box;top: 0;bottom: 0;left: 50%;z-index: 0;}#sk-container-id-1 div.sk-serial {display: flex;flex-direction: column;align-items: center;background-color: white;padding-right: 0.2em;padding-left: 0.2em;position: relative;}#sk-container-id-1 div.sk-item {position: relative;z-index: 1;}#sk-container-id-1 div.sk-parallel {display: flex;align-items: stretch;justify-content: center;background-color: white;position: relative;}#sk-container-id-1 div.sk-item::before, #sk-container-id-1 div.sk-parallel-item::before {content: \"\";position: absolute;border-left: 1px solid gray;box-sizing: border-box;top: 0;bottom: 0;left: 50%;z-index: -1;}#sk-container-id-1 div.sk-parallel-item {display: flex;flex-direction: column;z-index: 1;position: relative;background-color: white;}#sk-container-id-1 div.sk-parallel-item:first-child::after {align-self: flex-end;width: 50%;}#sk-container-id-1 div.sk-parallel-item:last-child::after {align-self: flex-start;width: 50%;}#sk-container-id-1 div.sk-parallel-item:only-child::after {width: 0;}#sk-container-id-1 div.sk-dashed-wrapped {border: 1px dashed gray;margin: 0 0.4em 0.5em 0.4em;box-sizing: border-box;padding-bottom: 0.4em;background-color: white;}#sk-container-id-1 div.sk-label label {font-family: monospace;font-weight: bold;display: inline-block;line-height: 1.2em;}#sk-container-id-1 div.sk-label-container {text-align: center;}#sk-container-id-1 div.sk-container {/* jupyter's `normalize.less` sets `[hidden] { display: none; }` but bootstrap.min.css set `[hidden] { display: none !important; }` so we also need the `!important` here to be able to override the default hidden behavior on the sphinx rendered scikit-learn.org. See: https://github.com/scikit-learn/scikit-learn/issues/21755 */display: inline-block !important;position: relative;}#sk-container-id-1 div.sk-text-repr-fallback {display: none;}</style><div id=\"sk-container-id-1\" class=\"sk-top-container\"><div class=\"sk-text-repr-fallback\"><pre>Perceptron(max_iter=2000, n_jobs=-1, random_state=40)</pre><b>In a Jupyter environment, please rerun this cell to show the HTML representation or trust the notebook. <br />On GitHub, the HTML representation is unable to render, please try loading this page with nbviewer.org.</b></div><div class=\"sk-container\" hidden><div class=\"sk-item\"><div class=\"sk-estimator sk-toggleable\"><input class=\"sk-toggleable__control sk-hidden--visually\" id=\"sk-estimator-id-1\" type=\"checkbox\" checked><label for=\"sk-estimator-id-1\" class=\"sk-toggleable__label sk-toggleable__label-arrow\">Perceptron</label><div class=\"sk-toggleable__content\"><pre>Perceptron(max_iter=2000, n_jobs=-1, random_state=40)</pre></div></div></div></div></div>"
      ],
      "text/plain": [
       "Perceptron(max_iter=2000, n_jobs=-1, random_state=40)"
      ]
     },
     "execution_count": 5,
     "metadata": {},
     "output_type": "execute_result"
    }
   ],
   "source": [
    "# Create and train the perceptron\n",
    "clf = Perceptron(max_iter=2000, random_state=40, n_jobs=-1)\n",
    "clf.fit(X_train, y_train)"
   ]
  },
  {
   "cell_type": "code",
   "execution_count": 6,
   "id": "5abcecce",
   "metadata": {},
   "outputs": [],
   "source": [
    "y_pred = clf.predict(X_test)"
   ]
  },
  {
   "cell_type": "code",
   "execution_count": 7,
   "id": "399ed3ad",
   "metadata": {},
   "outputs": [
    {
     "name": "stdout",
     "output_type": "stream",
     "text": [
      "\n",
      "Perceptron Accuracy on Test Set: 0.866\n"
     ]
    }
   ],
   "source": [
    "# Calculate precision\n",
    "accuracy = accuracy_score(y_test, y_pred)\n",
    "print(\"\\nPerceptron Accuracy on Test Set:\", accuracy)"
   ]
  },
  {
   "cell_type": "code",
   "execution_count": 8,
   "id": "2ac88d72",
   "metadata": {},
   "outputs": [],
   "source": [
    "# Find incorrectly classified and correctly classified examples\n",
    "index_errors = [i for i, (label, predict) in enumerate(zip(y_test, y_pred)) if label != predict]\n",
    "index_correct = [i for i, (label, predict) in enumerate(zip(y_test, y_pred)) if label == predict]"
   ]
  },
  {
   "cell_type": "code",
   "execution_count": 9,
   "id": "eed496e6",
   "metadata": {},
   "outputs": [
    {
     "name": "stdout",
     "output_type": "stream",
     "text": [
      "\n",
      "Correctly classified examples: \n",
      "\n"
     ]
    },
    {
     "data": {
      "image/png": "[encoded data removed]",
      "text/plain": [
       "<Figure size 2000x400 with 8 Axes>"
      ]
     },
     "metadata": {},
     "output_type": "display_data"
    }
   ],
   "source": [
    "# Display correctly classified examples\n",
    "\n",
    "print(\"\\nCorrectly classified examples: \\n\")\n",
    "\n",
    "plt.figure(figsize=(20, 4))\n",
    "for i, img_index in enumerate(index_correct[8:16]):\n",
    "    plt.subplot(1, 8, i + 1)\n",
    "    plt.imshow(np.array(X_test.iloc[img_index]).reshape(28, 28), cmap=plt.cm.gray)\n",
    "    plt.title(f'Orig: {y_test.iloc[img_index]} Pred: {y_pred[img_index]}')\n",
    "plt.show()"
   ]
  },
  {
   "cell_type": "code",
   "execution_count": 10,
   "id": "af7f44e4",
   "metadata": {},
   "outputs": [
    {
     "name": "stdout",
     "output_type": "stream",
     "text": [
      "\n",
      "Incorrectly classified examples: \n",
      "\n"
     ]
    },
    {
     "data": {
      "image/png": "[encoded data removed]",
      "text/plain": [
       "<Figure size 2000x400 with 8 Axes>"
      ]
     },
     "metadata": {},
     "output_type": "display_data"
    }
   ],
   "source": [
    "# Display incorrectly classified examples\n",
    "\n",
    "print(\"\\nIncorrectly classified examples: \\n\")\n",
    "\n",
    "plt.figure(figsize=(20, 4))\n",
    "for i, img_index in enumerate(index_errors[16:24]):\n",
    "    plt.subplot(1, 8, i + 1)\n",
    "    plt.imshow(np.array(X_test.iloc[img_index]).reshape(28, 28), cmap=plt.cm.gray)\n",
    "    plt.title(f'Orig: {y_test.iloc[img_index]} Pred: {y_pred[img_index]}')\n",
    "plt.show()"
   ]
  },
  {
   "cell_type": "code",
   "execution_count": 11,
   "id": "947fb0fd",
   "metadata": {},
   "outputs": [
    {
     "data": {
      "image/png": "[encoded data removed]",
      "text/plain": [
       "<Figure size 640x480 with 1 Axes>"
      ]
     },
     "metadata": {},
     "output_type": "display_data"
    }
   ],
   "source": [
    "# Create a graph to represent the results\n",
    "labels = ['Correct', 'Incorrect']\n",
    "sizes = [len(index_correct), len(index_errors)]\n",
    "colors = ['green', 'red']\n",
    "\n",
    "plt.pie(sizes, labels=labels, colors=colors, autopct='%1.1f%%')\n",
    "plt.axis('equal')\n",
    "plt.title('Classification Results')\n",
    "plt.show()"
   ]
  },
  {
   "cell_type": "markdown",
   "id": "6d5795c9",
   "metadata": {},
   "source": [
    "<h3>Loss function and Optimization function identification<h3>\n"
   ]
  },
  {
   "cell_type": "markdown",
   "id": "da93e622",
   "metadata": {},
   "source": [
    "A loss function in the context of a perceptron is a metric that measures how well the model's predictions are doing compared to the actual values. In a perceptron, the loss function known as the Mean Square Error (MSE) function is commonly used, which is represented as follows:\n",
    "\n",
    "MSE = 1/2 * (target - output)^2\n",
    "\n",
    "Where:\n",
    "\n",
    "     \"target\" is the actual value that is expected.\n",
    "     \"output\" is the perceptron prediction.\n",
    "\n",
    "Optimization refers to the process of adjusting the perceptron parameters (weights and bias) to minimize this loss function. A common optimization algorithm in the context of perceptrons is gradient descent. The goal is to find the weights and bias that minimize the loss function, and this is achieved by adjusting the parameter values in the opposite direction to the gradient of the loss function."
   ]
  },
  {
   "cell_type": "markdown",
   "id": "470d0dc4",
   "metadata": {},
   "source": [
    "<h3>References<h3>"
   ]
  },
  {
   "cell_type": "markdown",
   "id": "7bb33343",
   "metadata": {},
   "source": [
    "* González, L. (2022, September 14). ¿Qué es el perceptrón? perceptrón simple y multicapa. ¿Qué es el Perceptrón? Perceptrón Simple y Multicapa. https://aprendeia.com/que-es-el-perceptron-simple-y-multicapa/ \n",
    "* (2022, March 7). Perceptrón: ¿qué es y para qué sirve? https://datascientest.com/es/perceptron-que-es-y-para-que-sirve \n",
    "* Agrawal, A. (2017, September 29). Loss functions and optimization algorithms. demystified. Loss Functions and Optimization Algorithms. Demystified. https://medium.com/data-science-group-iitr/loss-functions-and-optimization-algorithms-demystified-bb92daff331c "
   ]
  }
 ],
 "metadata": {
  "kernelspec": {
   "display_name": "Python 3 (ipykernel)",
   "language": "python",
   "name": "python3"
  },
  "language_info": {
   "codemirror_mode": {
    "name": "ipython",
    "version": 3
   },
   "file_extension": ".py",
   "mimetype": "text/x-python",
   "name": "python",
   "nbconvert_exporter": "python",
   "pygments_lexer": "ipython3",
   "version": "3.11.4"
  }
 },
 "nbformat": 4,
 "nbformat_minor": 5
}
